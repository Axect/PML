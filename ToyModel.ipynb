{
 "cells": [
  {
   "cell_type": "markdown",
   "id": "efffeae5",
   "metadata": {},
   "source": [
    "## Setup"
   ]
  },
  {
   "cell_type": "code",
   "execution_count": 1,
   "id": "c3817e10",
   "metadata": {},
   "outputs": [],
   "source": [
    "import matplotlib.pyplot as plt\n",
    "import numpy as np"
   ]
  },
  {
   "cell_type": "code",
   "execution_count": 2,
   "id": "e20c37d4",
   "metadata": {},
   "outputs": [],
   "source": [
    "import os\n",
    "\n",
    "import torch\n",
    "from torch import nn\n",
    "import torch.nn.functional as F\n",
    "from torch.utils.data import DataLoader, random_split, Dataset\n",
    "from torch.distributions import Uniform, Normal\n",
    "from torchmetrics import Accuracy\n",
    "\n",
    "from pytorch_lightning import LightningDataModule, LightningModule, Trainer\n",
    "from pytorch_lightning.callbacks.early_stopping import EarlyStopping\n",
    "\n",
    "PATH_DATASETS = \".\"\n",
    "AVAIL_GPUS = min(1, torch.cuda.device_count())\n",
    "BATCH_SIZE = 256 if AVAIL_GPUS else 64"
   ]
  },
  {
   "cell_type": "code",
   "execution_count": 3,
   "id": "3e1fa646",
   "metadata": {},
   "outputs": [
    {
     "data": {
      "text/plain": [
       "<torch._C.Generator at 0x7f6ac74dac50>"
      ]
     },
     "execution_count": 3,
     "metadata": {},
     "output_type": "execute_result"
    }
   ],
   "source": [
    "torch.manual_seed(8407)"
   ]
  },
  {
   "cell_type": "markdown",
   "id": "c3b69d29",
   "metadata": {},
   "source": [
    "## Play with data"
   ]
  },
  {
   "cell_type": "code",
   "execution_count": 4,
   "id": "57ee85b3",
   "metadata": {},
   "outputs": [],
   "source": [
    "def gen_uniform(N):\n",
    "    u = Uniform(-4, 4)\n",
    "    return u.sample((N,))\n",
    "\n",
    "def gen_normal(theta, N):\n",
    "    n = Normal(loc=theta, scale=0.25)\n",
    "    return n.sample((N,))"
   ]
  },
  {
   "cell_type": "code",
   "execution_count": 5,
   "id": "bd7801f0",
   "metadata": {},
   "outputs": [],
   "source": [
    "N = 60000"
   ]
  },
  {
   "cell_type": "code",
   "execution_count": 6,
   "id": "57559da8",
   "metadata": {},
   "outputs": [],
   "source": [
    "x0 = gen_uniform(N)\n",
    "x1 = torch.column_stack([gen_normal(th, N) for th in [-2,-1,0,1,2]])"
   ]
  },
  {
   "cell_type": "code",
   "execution_count": 7,
   "id": "a23846b5",
   "metadata": {},
   "outputs": [
    {
     "data": {
      "text/plain": [
       "torch.Size([60000, 5])"
      ]
     },
     "execution_count": 7,
     "metadata": {},
     "output_type": "execute_result"
    }
   ],
   "source": [
    "x1.shape"
   ]
  },
  {
   "cell_type": "code",
   "execution_count": 8,
   "id": "4ca98d01",
   "metadata": {},
   "outputs": [
    {
     "data": {
      "image/png": "[encoded data removed]",
      "text/plain": [
       "<Figure size 1200x720 with 1 Axes>"
      ]
     },
     "metadata": {
      "needs_background": "light"
     },
     "output_type": "display_data"
    }
   ],
   "source": [
    "plt.figure(figsize=(10, 6), dpi=120)\n",
    "plt.hist(x0.detach().numpy(), bins=100, alpha=0.8)\n",
    "plt.hist(x1[:,0].detach().numpy(), bins=30, alpha=0.8)\n",
    "plt.hist(x1[:,1].detach().numpy(), bins=30, alpha=0.8)\n",
    "plt.hist(x1[:,2].detach().numpy(), bins=30, alpha=0.8)\n",
    "plt.hist(x1[:,3].detach().numpy(), bins=30, alpha=0.8)\n",
    "plt.hist(x1[:,4].detach().numpy(), bins=30, alpha=0.8)\n",
    "plt.xlim([-4, 4])\n",
    "plt.show()"
   ]
  },
  {
   "cell_type": "markdown",
   "id": "4204ebc6",
   "metadata": {},
   "source": [
    "## Create LightningModule"
   ]
  },
  {
   "cell_type": "code",
   "execution_count": 9,
   "id": "87ea3bdd",
   "metadata": {},
   "outputs": [],
   "source": [
    "class ToyDataset(Dataset):\n",
    "    def __init__(self, X, y):\n",
    "        self.X = X\n",
    "        self.y = y\n",
    "    \n",
    "    def __len__(self):\n",
    "        return self.X.shape[0]\n",
    "    \n",
    "    def __getitem__(self, idx):\n",
    "        return self.X[idx], self.y[idx]"
   ]
  },
  {
   "cell_type": "code",
   "execution_count": 10,
   "id": "02d65e22",
   "metadata": {
    "pycharm": {
     "name": "#%%\n"
    }
   },
   "outputs": [],
   "source": [
    "class MLP(LightningModule):\n",
    "    def __init__(self, N=60000, hidden_size=64, learning_rate=2e-4, thetas=None):\n",
    "        super().__init__()\n",
    "\n",
    "        self.hidden_size = hidden_size\n",
    "        self.learning_rate = learning_rate\n",
    "\n",
    "        self.model = nn.Sequential(\n",
    "            nn.Linear(2, hidden_size),\n",
    "            nn.ReLU(),\n",
    "            nn.Dropout(0.1),\n",
    "            nn.Linear(hidden_size, hidden_size),\n",
    "            nn.ReLU(),\n",
    "            nn.Dropout(0.1),\n",
    "            nn.Linear(hidden_size, 1)\n",
    "        )\n",
    "\n",
    "        self.accuracy = Accuracy()\n",
    "        \n",
    "        self.N=N\n",
    "        if thetas is None:\n",
    "            thetas = torch.tensor([-2., -1., 0., 1., 2.])\n",
    "        self.thetas = thetas\n",
    "        self.ds = None\n",
    "\n",
    "    def forward(self, x):\n",
    "        x = self.model(x)\n",
    "        return torch.sigmoid(x)\n",
    "\n",
    "    def training_step(self, batch, batch_idx):\n",
    "        x, y = batch\n",
    "        logits = self(x)\n",
    "        loss = F.binary_cross_entropy(logits, y)\n",
    "        return loss\n",
    "\n",
    "    def validation_step(self, batch, batch_idx):\n",
    "        x, y = batch\n",
    "        logits = self(x)\n",
    "        loss = F.binary_cross_entropy(logits, y)\n",
    "        preds = torch.round(logits)\n",
    "        acc = self.accuracy(preds, y.to(torch.int32))\n",
    "\n",
    "        self.log('val_loss', loss, prog_bar=True)\n",
    "        self.log('val_acc', self.accuracy, prog_bar=True)\n",
    "        return loss\n",
    "\n",
    "    def test_step(self, batch, batch_idx):\n",
    "        return self.validation_step(batch, batch_idx)\n",
    "\n",
    "    def configure_optimizers(self):\n",
    "        optimizer = torch.optim.Adam(self.parameters(), lr=self.learning_rate)\n",
    "        return optimizer\n",
    "    \n",
    "    def prepare_data(self) -> None:\n",
    "        # Background\n",
    "        x0 = gen_uniform(self.N // 2) # 30000\n",
    "        th0_ics = torch.randint(0, len(self.thetas), (len(x0),))\n",
    "        th0 = self.thetas[th0_ics]\n",
    "        bg = torch.column_stack([x0, th0])\n",
    "        l0 = torch.zeros((bg.shape[0],1))\n",
    "\n",
    "        # Signals\n",
    "        n = (self.N // 2) // 5 # 6000\n",
    "        data = torch.zeros((self.N // 2, 2))\n",
    "        for (i, th) in enumerate(self.thetas):\n",
    "            # if i == len(self.thetas)-1:\n",
    "            #     n = self.N // 2 - 4*n\n",
    "            xi = gen_normal(th, n)\n",
    "            thi = torch.ones_like(xi) * th\n",
    "            data[i*n:(i+1)*n, 0] = xi\n",
    "            data[i*n:(i+1)*n, 1] = thi\n",
    "        l1 = torch.ones((data.shape[0],1))\n",
    "\n",
    "        self.ds = ToyDataset(\n",
    "            torch.row_stack([bg, data]),\n",
    "            torch.row_stack([l0, l1])\n",
    "        )\n",
    "\n",
    "    def setup(self, stage=None) -> None:\n",
    "        if stage == \"fit\" or stage is None:\n",
    "            self.ds_train, self.ds_val = random_split(self.ds, [55000, 5000])\n",
    "\n",
    "        if stage == \"test\" or stage is None:\n",
    "            _, self.ds_test = random_split(self.ds, [55000, 5000])\n",
    "\n",
    "    def train_dataloader(self):\n",
    "        return DataLoader(self.ds_train, batch_size=BATCH_SIZE)\n",
    "\n",
    "    def val_dataloader(self):\n",
    "        return DataLoader(self.ds_val, batch_size=BATCH_SIZE)\n",
    "\n",
    "    def test_dataloader(self):\n",
    "        return DataLoader(self.ds_test, batch_size=BATCH_SIZE)"
   ]
  },
  {
   "cell_type": "code",
   "execution_count": 11,
   "id": "11840023",
   "metadata": {
    "pycharm": {
     "name": "#%%\n"
    }
   },
   "outputs": [
    {
     "name": "stderr",
     "output_type": "stream",
     "text": [
      "/home/xteca/anaconda3/lib/python3.9/site-packages/pytorch_lightning/trainer/connectors/callback_connector.py:90: LightningDeprecationWarning: Setting `Trainer(progress_bar_refresh_rate=20)` is deprecated in v1.5 and will be removed in v1.7. Please pass `pytorch_lightning.callbacks.progress.TQDMProgressBar` with `refresh_rate` directly to the Trainer's `callbacks` argument instead. Or, to disable the progress bar pass `enable_progress_bar = False` to the Trainer.\n",
      "  rank_zero_deprecation(\n",
      "GPU available: True, used: True\n",
      "TPU available: False, using: 0 TPU cores\n",
      "IPU available: False, using: 0 IPUs\n"
     ]
    }
   ],
   "source": [
    "model = MLP()\n",
    "\n",
    "trainer = Trainer(\n",
    "    max_epochs=50,\n",
    "    progress_bar_refresh_rate=20,\n",
    "    gpus=AVAIL_GPUS,\n",
    "    callbacks=[EarlyStopping(monitor=\"val_loss\")]\n",
    ")"
   ]
  },
  {
   "cell_type": "code",
   "execution_count": null,
   "id": "049b8276",
   "metadata": {
    "pycharm": {
     "name": "#%%\n"
    }
   },
   "outputs": [
    {
     "name": "stderr",
     "output_type": "stream",
     "text": [
      "LOCAL_RANK: 0 - CUDA_VISIBLE_DEVICES: [0]\n",
      "Missing logger folder: /home/xteca/Documents/Project/Machine_Learning/PML/lightning_logs\n",
      "\n",
      "  | Name     | Type       | Params\n",
      "----------------------------------------\n",
      "0 | model    | Sequential | 4.4 K \n",
      "1 | accuracy | Accuracy   | 0     \n",
      "----------------------------------------\n",
      "4.4 K     Trainable params\n",
      "0         Non-trainable params\n",
      "4.4 K     Total params\n",
      "0.018     Total estimated model params size (MB)\n"
     ]
    },
    {
     "data": {
      "application/vnd.jupyter.widget-view+json": {
       "model_id": "",
       "version_major": 2,
       "version_minor": 0
      },
      "text/plain": [
       "Validation sanity check: 0it [00:00, ?it/s]"
      ]
     },
     "metadata": {},
     "output_type": "display_data"
    },
    {
     "name": "stderr",
     "output_type": "stream",
     "text": [
      "/home/xteca/anaconda3/lib/python3.9/site-packages/pytorch_lightning/trainer/data_loading.py:132: UserWarning: The dataloader, val_dataloader 0, does not have many workers which may be a bottleneck. Consider increasing the value of the `num_workers` argument` (try 12 which is the number of cpus on this machine) in the `DataLoader` init to improve performance.\n",
      "  rank_zero_warn(\n",
      "/home/xteca/anaconda3/lib/python3.9/site-packages/pytorch_lightning/trainer/data_loading.py:132: UserWarning: The dataloader, train_dataloader, does not have many workers which may be a bottleneck. Consider increasing the value of the `num_workers` argument` (try 12 which is the number of cpus on this machine) in the `DataLoader` init to improve performance.\n",
      "  rank_zero_warn(\n"
     ]
    },
    {
     "data": {
      "application/vnd.jupyter.widget-view+json": {
       "model_id": "4430792627544e0d92677ef65852006d",
       "version_major": 2,
       "version_minor": 0
      },
      "text/plain": [
       "Training: 0it [00:00, ?it/s]"
      ]
     },
     "metadata": {},
     "output_type": "display_data"
    },
    {
     "data": {
      "application/vnd.jupyter.widget-view+json": {
       "model_id": "",
       "version_major": 2,
       "version_minor": 0
      },
      "text/plain": [
       "Validating: 0it [00:00, ?it/s]"
      ]
     },
     "metadata": {},
     "output_type": "display_data"
    },
    {
     "data": {
      "application/vnd.jupyter.widget-view+json": {
       "model_id": "",
       "version_major": 2,
       "version_minor": 0
      },
      "text/plain": [
       "Validating: 0it [00:00, ?it/s]"
      ]
     },
     "metadata": {},
     "output_type": "display_data"
    },
    {
     "data": {
      "application/vnd.jupyter.widget-view+json": {
       "model_id": "",
       "version_major": 2,
       "version_minor": 0
      },
      "text/plain": [
       "Validating: 0it [00:00, ?it/s]"
      ]
     },
     "metadata": {},
     "output_type": "display_data"
    },
    {
     "data": {
      "application/vnd.jupyter.widget-view+json": {
       "model_id": "",
       "version_major": 2,
       "version_minor": 0
      },
      "text/plain": [
       "Validating: 0it [00:00, ?it/s]"
      ]
     },
     "metadata": {},
     "output_type": "display_data"
    },
    {
     "data": {
      "application/vnd.jupyter.widget-view+json": {
       "model_id": "",
       "version_major": 2,
       "version_minor": 0
      },
      "text/plain": [
       "Validating: 0it [00:00, ?it/s]"
      ]
     },
     "metadata": {},
     "output_type": "display_data"
    },
    {
     "data": {
      "application/vnd.jupyter.widget-view+json": {
       "model_id": "",
       "version_major": 2,
       "version_minor": 0
      },
      "text/plain": [
       "Validating: 0it [00:00, ?it/s]"
      ]
     },
     "metadata": {},
     "output_type": "display_data"
    },
    {
     "data": {
      "application/vnd.jupyter.widget-view+json": {
       "model_id": "",
       "version_major": 2,
       "version_minor": 0
      },
      "text/plain": [
       "Validating: 0it [00:00, ?it/s]"
      ]
     },
     "metadata": {},
     "output_type": "display_data"
    },
    {
     "data": {
      "application/vnd.jupyter.widget-view+json": {
       "model_id": "",
       "version_major": 2,
       "version_minor": 0
      },
      "text/plain": [
       "Validating: 0it [00:00, ?it/s]"
      ]
     },
     "metadata": {},
     "output_type": "display_data"
    },
    {
     "data": {
      "application/vnd.jupyter.widget-view+json": {
       "model_id": "",
       "version_major": 2,
       "version_minor": 0
      },
      "text/plain": [
       "Validating: 0it [00:00, ?it/s]"
      ]
     },
     "metadata": {},
     "output_type": "display_data"
    },
    {
     "data": {
      "application/vnd.jupyter.widget-view+json": {
       "model_id": "",
       "version_major": 2,
       "version_minor": 0
      },
      "text/plain": [
       "Validating: 0it [00:00, ?it/s]"
      ]
     },
     "metadata": {},
     "output_type": "display_data"
    },
    {
     "data": {
      "application/vnd.jupyter.widget-view+json": {
       "model_id": "",
       "version_major": 2,
       "version_minor": 0
      },
      "text/plain": [
       "Validating: 0it [00:00, ?it/s]"
      ]
     },
     "metadata": {},
     "output_type": "display_data"
    },
    {
     "data": {
      "application/vnd.jupyter.widget-view+json": {
       "model_id": "",
       "version_major": 2,
       "version_minor": 0
      },
      "text/plain": [
       "Validating: 0it [00:00, ?it/s]"
      ]
     },
     "metadata": {},
     "output_type": "display_data"
    },
    {
     "data": {
      "application/vnd.jupyter.widget-view+json": {
       "model_id": "",
       "version_major": 2,
       "version_minor": 0
      },
      "text/plain": [
       "Validating: 0it [00:00, ?it/s]"
      ]
     },
     "metadata": {},
     "output_type": "display_data"
    },
    {
     "data": {
      "application/vnd.jupyter.widget-view+json": {
       "model_id": "",
       "version_major": 2,
       "version_minor": 0
      },
      "text/plain": [
       "Validating: 0it [00:00, ?it/s]"
      ]
     },
     "metadata": {},
     "output_type": "display_data"
    },
    {
     "data": {
      "application/vnd.jupyter.widget-view+json": {
       "model_id": "",
       "version_major": 2,
       "version_minor": 0
      },
      "text/plain": [
       "Validating: 0it [00:00, ?it/s]"
      ]
     },
     "metadata": {},
     "output_type": "display_data"
    },
    {
     "data": {
      "application/vnd.jupyter.widget-view+json": {
       "model_id": "",
       "version_major": 2,
       "version_minor": 0
      },
      "text/plain": [
       "Validating: 0it [00:00, ?it/s]"
      ]
     },
     "metadata": {},
     "output_type": "display_data"
    },
    {
     "data": {
      "application/vnd.jupyter.widget-view+json": {
       "model_id": "",
       "version_major": 2,
       "version_minor": 0
      },
      "text/plain": [
       "Validating: 0it [00:00, ?it/s]"
      ]
     },
     "metadata": {},
     "output_type": "display_data"
    },
    {
     "data": {
      "application/vnd.jupyter.widget-view+json": {
       "model_id": "",
       "version_major": 2,
       "version_minor": 0
      },
      "text/plain": [
       "Validating: 0it [00:00, ?it/s]"
      ]
     },
     "metadata": {},
     "output_type": "display_data"
    }
   ],
   "source": [
    "# trainer.fit(model, dm)\n",
    "trainer.fit(model)"
   ]
  },
  {
   "cell_type": "code",
   "execution_count": null,
   "id": "43ef455b",
   "metadata": {},
   "outputs": [],
   "source": [
    "trainer.test()"
   ]
  },
  {
   "cell_type": "code",
   "execution_count": null,
   "id": "3a755c42",
   "metadata": {},
   "outputs": [],
   "source": [
    "# Start tensorboard.\n",
    "%load_ext tensorboard\n",
    "%tensorboard --logdir lightning_logs/"
   ]
  },
  {
   "cell_type": "markdown",
   "id": "dae5512f",
   "metadata": {},
   "source": [
    "## Reconstruct"
   ]
  },
  {
   "cell_type": "code",
   "execution_count": null,
   "id": "b3f5e0ca",
   "metadata": {},
   "outputs": [],
   "source": [
    "def predict(theta, domain):\n",
    "    thetas = torch.ones_like(domain) * theta\n",
    "    data = torch.column_stack([domain, thetas])\n",
    "    return model(data)"
   ]
  },
  {
   "cell_type": "code",
   "execution_count": null,
   "id": "7dd41bfa",
   "metadata": {},
   "outputs": [],
   "source": [
    "plt.rc('text', usetex=True)\n",
    "plt.rc('font', family='serif')"
   ]
  },
  {
   "cell_type": "code",
   "execution_count": null,
   "id": "f40a468e",
   "metadata": {},
   "outputs": [],
   "source": [
    "thetas = [-2,-1,0,1,2]\n",
    "\n",
    "x = torch.linspace(-4, 4, 10000)\n",
    "ys = [predict(th, x) for th in thetas]\n",
    "\n",
    "plt.figure(figsize=(10,6), dpi=120)\n",
    "plt.title(r\"For trained $\\theta$\")\n",
    "for (i, th) in enumerate([-2,-1,0,1,2]):\n",
    "    plt.plot(x.detach().numpy(), ys[i].detach().numpy(), '.', alpha=0.8, label=r\"$\\theta = $\"+f\"$\\,{th}$\")\n",
    "plt.legend()\n",
    "plt.savefig(\"fig/exact_th_scatter.png\", dpi=300)\n",
    "plt.show()"
   ]
  },
  {
   "cell_type": "code",
   "execution_count": null,
   "id": "c17a49ed",
   "metadata": {},
   "outputs": [],
   "source": [
    "thetas = [-0.5, 0.5]\n",
    "ys = [predict(th, x) for th in thetas]\n",
    "\n",
    "plt.figure(figsize=(10,6), dpi=120)\n",
    "plt.title(r\"For interpolated $\\theta$\")\n",
    "for (i, th) in enumerate(thetas):\n",
    "    plt.plot(x.detach().numpy(), ys[i].detach().numpy(), '.', alpha=0.8, label=r\"$\\theta = $\"+f\"$\\,{th}$\")\n",
    "plt.legend()\n",
    "plt.savefig(\"fig/interpolate_th_scatter.png\", dpi=300)\n",
    "plt.show()"
   ]
  },
  {
   "cell_type": "code",
   "execution_count": null,
   "id": "36061508",
   "metadata": {},
   "outputs": [],
   "source": [
    "thetas = [-4.5, -2.5, 2.5, 4.5]\n",
    "x = torch.linspace(-6, 6, 10000)\n",
    "ys = [predict(th, x) for th in thetas]\n",
    "\n",
    "plt.figure(figsize=(10,6), dpi=120)\n",
    "plt.title(r\"For extrapolated $\\theta$\")\n",
    "for (i, th) in enumerate(thetas):\n",
    "    plt.plot(x.detach().numpy(), ys[i].detach().numpy(), '.', alpha=0.8, label=r\"$\\theta = $\"+f\"$\\,{th}$\")\n",
    "plt.legend()\n",
    "plt.savefig(\"fig/extrapolate_th_scatter.png\", dpi=300)\n",
    "plt.show()"
   ]
  },
  {
   "cell_type": "markdown",
   "id": "97fd87f6",
   "metadata": {},
   "source": [
    "--------------"
   ]
  },
  {
   "cell_type": "markdown",
   "id": "a5e2055c",
   "metadata": {},
   "source": [
    "## Legacy"
   ]
  },
  {
   "cell_type": "code",
   "execution_count": null,
   "id": "dc54d559",
   "metadata": {},
   "outputs": [],
   "source": [
    "# class ToyDataModule(LightningDataModule):\n",
    "#     def __init__(self, N=60000, thetas=None):\n",
    "#         super().__init__()\n",
    "#         self.N=N\n",
    "#         if thetas is None:\n",
    "#             thetas = torch.tensor([-2., -1., 0., 1., 2.])\n",
    "#         self.thetas = thetas\n",
    "#         self.ds = None\n",
    "\n",
    "#     def prepare_data(self) -> None:\n",
    "#         # Background\n",
    "#         x0 = gen_uniform(self.N // 2) # 30000\n",
    "#         th0 = torch.randint(0, len(self.thetas), (len(x0),)) # 30000\n",
    "#         bg = torch.column_stack([x0, th0])\n",
    "#         l0 = torch.zeros((bg.shape[0],1))\n",
    "\n",
    "#         # Signals\n",
    "#         n = (self.N // 2) // 5 # 6000\n",
    "#         data = torch.zeros((self.N // 2, 2))\n",
    "#         for (i, th) in enumerate(self.thetas):\n",
    "#             # if i == len(self.thetas)-1:\n",
    "#             #     n = self.N // 2 - 4*n\n",
    "#             xi = gen_normal(th, n)\n",
    "#             thi = torch.ones_like(xi) * th\n",
    "#             data[i*n:(i+1)*n, 0] = xi\n",
    "#             data[i*n:(i+1)*n, 1] = thi\n",
    "#         l1 = torch.ones((data.shape[0],1))\n",
    "\n",
    "#         self.ds = ToyDataset(\n",
    "#             torch.row_stack([bg, data]),\n",
    "#             torch.row_stack([l0, l1])\n",
    "#         )\n",
    "\n",
    "#     def setup(self, stage=None) -> None:\n",
    "#         if stage == \"fit\" or stage is None:\n",
    "#             self.ds_train, self.ds_val = random_split(self.ds, [55000, 5000])\n",
    "\n",
    "#         if stage == \"test\" or stage is None:\n",
    "#             _, self.ds_test = random_split(self.ds, [55000, 5000])\n",
    "\n",
    "#     def train_dataloader(self):\n",
    "#         return DataLoader(self.ds_train, batch_size=BATCH_SIZE)\n",
    "\n",
    "#     def val_dataloader(self):\n",
    "#         return DataLoader(self.ds_val, batch_size=BATCH_SIZE)\n",
    "\n",
    "#     def test_dataloader(self):\n",
    "#         return DataLoader(self.ds_test, batch_size=BATCH_SIZE)"
   ]
  }
 ],
 "metadata": {
  "kernelspec": {
   "display_name": "Python 3 (ipykernel)",
   "language": "python",
   "name": "python3"
  },
  "language_info": {
   "codemirror_mode": {
    "name": "ipython",
    "version": 3
   },
   "file_extension": ".py",
   "mimetype": "text/x-python",
   "name": "python",
   "nbconvert_exporter": "python",
   "pygments_lexer": "ipython3",
   "version": "3.9.7"
  }
 },
 "nbformat": 4,
 "nbformat_minor": 5
}
